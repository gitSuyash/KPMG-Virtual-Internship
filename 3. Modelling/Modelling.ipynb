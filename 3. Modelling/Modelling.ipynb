{
 "cells": [
  {
   "cell_type": "code",
   "execution_count": 900,
   "metadata": {},
   "outputs": [],
   "source": [
    "import pandas as pd\n",
    "import seaborn as sns\n",
    "import matplotlib.pyplot as plt"
   ]
  },
  {
   "cell_type": "code",
   "execution_count": 901,
   "metadata": {},
   "outputs": [
    {
     "data": {
      "text/html": [
       "<div>\n",
       "<style scoped>\n",
       "    .dataframe tbody tr th:only-of-type {\n",
       "        vertical-align: middle;\n",
       "    }\n",
       "\n",
       "    .dataframe tbody tr th {\n",
       "        vertical-align: top;\n",
       "    }\n",
       "\n",
       "    .dataframe thead th {\n",
       "        text-align: right;\n",
       "    }\n",
       "</style>\n",
       "<table border=\"1\" class=\"dataframe\">\n",
       "  <thead>\n",
       "    <tr style=\"text-align: right;\">\n",
       "      <th></th>\n",
       "      <th>first_name</th>\n",
       "      <th>last_name</th>\n",
       "      <th>gender</th>\n",
       "      <th>past_3_years_bike_related_purchases</th>\n",
       "      <th>DOB</th>\n",
       "      <th>job_title</th>\n",
       "      <th>job_industry_category</th>\n",
       "      <th>wealth_segment</th>\n",
       "      <th>deceased_indicator</th>\n",
       "      <th>owns_car</th>\n",
       "      <th>tenure</th>\n",
       "      <th>target</th>\n",
       "      <th>address</th>\n",
       "      <th>postcode</th>\n",
       "      <th>state</th>\n",
       "      <th>country</th>\n",
       "      <th>property_valuation</th>\n",
       "    </tr>\n",
       "  </thead>\n",
       "  <tbody>\n",
       "    <tr>\n",
       "      <th>0</th>\n",
       "      <td>Laraine</td>\n",
       "      <td>Medendorp</td>\n",
       "      <td>F</td>\n",
       "      <td>93</td>\n",
       "      <td>1953-10-12</td>\n",
       "      <td>Executive Secretary</td>\n",
       "      <td>Health</td>\n",
       "      <td>Mass Customer</td>\n",
       "      <td>N</td>\n",
       "      <td>Yes</td>\n",
       "      <td>11.0</td>\n",
       "      <td>1</td>\n",
       "      <td>060 Morning Avenue</td>\n",
       "      <td>2016</td>\n",
       "      <td>NSW</td>\n",
       "      <td>Australia</td>\n",
       "      <td>10</td>\n",
       "    </tr>\n",
       "    <tr>\n",
       "      <th>1</th>\n",
       "      <td>Eli</td>\n",
       "      <td>Bockman</td>\n",
       "      <td>M</td>\n",
       "      <td>81</td>\n",
       "      <td>1980-12-16</td>\n",
       "      <td>Administrative Officer</td>\n",
       "      <td>Financial Services</td>\n",
       "      <td>Mass Customer</td>\n",
       "      <td>N</td>\n",
       "      <td>Yes</td>\n",
       "      <td>16.0</td>\n",
       "      <td>0</td>\n",
       "      <td>6 Meadow Vale Court</td>\n",
       "      <td>2153</td>\n",
       "      <td>NSW</td>\n",
       "      <td>Australia</td>\n",
       "      <td>10</td>\n",
       "    </tr>\n",
       "    <tr>\n",
       "      <th>2</th>\n",
       "      <td>Talbot</td>\n",
       "      <td>missing</td>\n",
       "      <td>M</td>\n",
       "      <td>33</td>\n",
       "      <td>1961-10-03</td>\n",
       "      <td>missing</td>\n",
       "      <td>IT</td>\n",
       "      <td>Mass Customer</td>\n",
       "      <td>N</td>\n",
       "      <td>No</td>\n",
       "      <td>7.0</td>\n",
       "      <td>0</td>\n",
       "      <td>0 Holy Cross Court</td>\n",
       "      <td>4211</td>\n",
       "      <td>QLD</td>\n",
       "      <td>Australia</td>\n",
       "      <td>9</td>\n",
       "    </tr>\n",
       "    <tr>\n",
       "      <th>3</th>\n",
       "      <td>Sheila-kathryn</td>\n",
       "      <td>Calton</td>\n",
       "      <td>F</td>\n",
       "      <td>56</td>\n",
       "      <td>1977-05-13</td>\n",
       "      <td>Senior Editor</td>\n",
       "      <td>missing</td>\n",
       "      <td>Affluent Customer</td>\n",
       "      <td>N</td>\n",
       "      <td>Yes</td>\n",
       "      <td>8.0</td>\n",
       "      <td>0</td>\n",
       "      <td>17979 Del Mar Point</td>\n",
       "      <td>2448</td>\n",
       "      <td>NSW</td>\n",
       "      <td>Australia</td>\n",
       "      <td>4</td>\n",
       "    </tr>\n",
       "    <tr>\n",
       "      <th>4</th>\n",
       "      <td>Curr</td>\n",
       "      <td>Duckhouse</td>\n",
       "      <td>M</td>\n",
       "      <td>35</td>\n",
       "      <td>1966-09-16</td>\n",
       "      <td>missing</td>\n",
       "      <td>Retail</td>\n",
       "      <td>High Net Worth</td>\n",
       "      <td>N</td>\n",
       "      <td>Yes</td>\n",
       "      <td>13.0</td>\n",
       "      <td>0</td>\n",
       "      <td>9 Oakridge Court</td>\n",
       "      <td>3216</td>\n",
       "      <td>VIC</td>\n",
       "      <td>Australia</td>\n",
       "      <td>9</td>\n",
       "    </tr>\n",
       "  </tbody>\n",
       "</table>\n",
       "</div>"
      ],
      "text/plain": [
       "       first_name  last_name gender  past_3_years_bike_related_purchases  \\\n",
       "0         Laraine  Medendorp      F                                   93   \n",
       "1             Eli    Bockman      M                                   81   \n",
       "2          Talbot    missing      M                                   33   \n",
       "3  Sheila-kathryn     Calton      F                                   56   \n",
       "4            Curr  Duckhouse      M                                   35   \n",
       "\n",
       "         DOB               job_title job_industry_category     wealth_segment  \\\n",
       "0 1953-10-12     Executive Secretary                Health      Mass Customer   \n",
       "1 1980-12-16  Administrative Officer    Financial Services      Mass Customer   \n",
       "2 1961-10-03                 missing                    IT      Mass Customer   \n",
       "3 1977-05-13           Senior Editor               missing  Affluent Customer   \n",
       "4 1966-09-16                 missing                Retail     High Net Worth   \n",
       "\n",
       "  deceased_indicator owns_car  tenure  target              address  postcode  \\\n",
       "0                  N      Yes    11.0       1   060 Morning Avenue      2016   \n",
       "1                  N      Yes    16.0       0  6 Meadow Vale Court      2153   \n",
       "2                  N       No     7.0       0   0 Holy Cross Court      4211   \n",
       "3                  N      Yes     8.0       0  17979 Del Mar Point      2448   \n",
       "4                  N      Yes    13.0       0     9 Oakridge Court      3216   \n",
       "\n",
       "  state    country  property_valuation  \n",
       "0   NSW  Australia                  10  \n",
       "1   NSW  Australia                  10  \n",
       "2   QLD  Australia                   9  \n",
       "3   NSW  Australia                   4  \n",
       "4   VIC  Australia                   9  "
      ]
     },
     "execution_count": 901,
     "metadata": {},
     "output_type": "execute_result"
    }
   ],
   "source": [
    "train = pd.read_csv('train.csv',parse_dates=['DOB'])\n",
    "train.head()"
   ]
  },
  {
   "cell_type": "code",
   "execution_count": 902,
   "metadata": {},
   "outputs": [
    {
     "data": {
      "text/plain": [
       "(3489, 17)"
      ]
     },
     "execution_count": 902,
     "metadata": {},
     "output_type": "execute_result"
    }
   ],
   "source": [
    "train.shape"
   ]
  },
  {
   "cell_type": "code",
   "execution_count": 904,
   "metadata": {},
   "outputs": [],
   "source": [
    "train.drop(['first_name','last_name','address'],axis=1,inplace=True)"
   ]
  },
  {
   "cell_type": "code",
   "execution_count": 906,
   "metadata": {},
   "outputs": [],
   "source": [
    "train.drop('deceased_indicator',axis=1,inplace=True)"
   ]
  },
  {
   "cell_type": "code",
   "execution_count": 907,
   "metadata": {},
   "outputs": [
    {
     "data": {
      "text/plain": [
       "1"
      ]
     },
     "execution_count": 907,
     "metadata": {},
     "output_type": "execute_result"
    }
   ],
   "source": [
    "train['country'].nunique()"
   ]
  },
  {
   "cell_type": "code",
   "execution_count": 908,
   "metadata": {},
   "outputs": [],
   "source": [
    "train.drop('country',axis=1,inplace=True)"
   ]
  },
  {
   "cell_type": "code",
   "execution_count": 909,
   "metadata": {},
   "outputs": [
    {
     "data": {
      "text/html": [
       "<div>\n",
       "<style scoped>\n",
       "    .dataframe tbody tr th:only-of-type {\n",
       "        vertical-align: middle;\n",
       "    }\n",
       "\n",
       "    .dataframe tbody tr th {\n",
       "        vertical-align: top;\n",
       "    }\n",
       "\n",
       "    .dataframe thead th {\n",
       "        text-align: right;\n",
       "    }\n",
       "</style>\n",
       "<table border=\"1\" class=\"dataframe\">\n",
       "  <thead>\n",
       "    <tr style=\"text-align: right;\">\n",
       "      <th></th>\n",
       "      <th>gender</th>\n",
       "      <th>past_3_years_bike_related_purchases</th>\n",
       "      <th>job_title</th>\n",
       "      <th>job_industry_category</th>\n",
       "      <th>wealth_segment</th>\n",
       "      <th>owns_car</th>\n",
       "      <th>tenure</th>\n",
       "      <th>target</th>\n",
       "      <th>postcode</th>\n",
       "      <th>state</th>\n",
       "      <th>property_valuation</th>\n",
       "      <th>year</th>\n",
       "      <th>month</th>\n",
       "      <th>day</th>\n",
       "    </tr>\n",
       "  </thead>\n",
       "  <tbody>\n",
       "    <tr>\n",
       "      <th>0</th>\n",
       "      <td>F</td>\n",
       "      <td>93</td>\n",
       "      <td>Executive Secretary</td>\n",
       "      <td>Health</td>\n",
       "      <td>Mass Customer</td>\n",
       "      <td>Yes</td>\n",
       "      <td>11.0</td>\n",
       "      <td>1</td>\n",
       "      <td>2016</td>\n",
       "      <td>NSW</td>\n",
       "      <td>10</td>\n",
       "      <td>1953</td>\n",
       "      <td>10</td>\n",
       "      <td>12</td>\n",
       "    </tr>\n",
       "    <tr>\n",
       "      <th>1</th>\n",
       "      <td>M</td>\n",
       "      <td>81</td>\n",
       "      <td>Administrative Officer</td>\n",
       "      <td>Financial Services</td>\n",
       "      <td>Mass Customer</td>\n",
       "      <td>Yes</td>\n",
       "      <td>16.0</td>\n",
       "      <td>0</td>\n",
       "      <td>2153</td>\n",
       "      <td>NSW</td>\n",
       "      <td>10</td>\n",
       "      <td>1980</td>\n",
       "      <td>12</td>\n",
       "      <td>16</td>\n",
       "    </tr>\n",
       "    <tr>\n",
       "      <th>2</th>\n",
       "      <td>M</td>\n",
       "      <td>33</td>\n",
       "      <td>missing</td>\n",
       "      <td>IT</td>\n",
       "      <td>Mass Customer</td>\n",
       "      <td>No</td>\n",
       "      <td>7.0</td>\n",
       "      <td>0</td>\n",
       "      <td>4211</td>\n",
       "      <td>QLD</td>\n",
       "      <td>9</td>\n",
       "      <td>1961</td>\n",
       "      <td>10</td>\n",
       "      <td>3</td>\n",
       "    </tr>\n",
       "    <tr>\n",
       "      <th>3</th>\n",
       "      <td>F</td>\n",
       "      <td>56</td>\n",
       "      <td>Senior Editor</td>\n",
       "      <td>missing</td>\n",
       "      <td>Affluent Customer</td>\n",
       "      <td>Yes</td>\n",
       "      <td>8.0</td>\n",
       "      <td>0</td>\n",
       "      <td>2448</td>\n",
       "      <td>NSW</td>\n",
       "      <td>4</td>\n",
       "      <td>1977</td>\n",
       "      <td>5</td>\n",
       "      <td>13</td>\n",
       "    </tr>\n",
       "    <tr>\n",
       "      <th>4</th>\n",
       "      <td>M</td>\n",
       "      <td>35</td>\n",
       "      <td>missing</td>\n",
       "      <td>Retail</td>\n",
       "      <td>High Net Worth</td>\n",
       "      <td>Yes</td>\n",
       "      <td>13.0</td>\n",
       "      <td>0</td>\n",
       "      <td>3216</td>\n",
       "      <td>VIC</td>\n",
       "      <td>9</td>\n",
       "      <td>1966</td>\n",
       "      <td>9</td>\n",
       "      <td>16</td>\n",
       "    </tr>\n",
       "  </tbody>\n",
       "</table>\n",
       "</div>"
      ],
      "text/plain": [
       "  gender  past_3_years_bike_related_purchases               job_title  \\\n",
       "0      F                                   93     Executive Secretary   \n",
       "1      M                                   81  Administrative Officer   \n",
       "2      M                                   33                 missing   \n",
       "3      F                                   56           Senior Editor   \n",
       "4      M                                   35                 missing   \n",
       "\n",
       "  job_industry_category     wealth_segment owns_car  tenure  target  postcode  \\\n",
       "0                Health      Mass Customer      Yes    11.0       1      2016   \n",
       "1    Financial Services      Mass Customer      Yes    16.0       0      2153   \n",
       "2                    IT      Mass Customer       No     7.0       0      4211   \n",
       "3               missing  Affluent Customer      Yes     8.0       0      2448   \n",
       "4                Retail     High Net Worth      Yes    13.0       0      3216   \n",
       "\n",
       "  state  property_valuation  year  month  day  \n",
       "0   NSW                  10  1953     10   12  \n",
       "1   NSW                  10  1980     12   16  \n",
       "2   QLD                   9  1961     10    3  \n",
       "3   NSW                   4  1977      5   13  \n",
       "4   VIC                   9  1966      9   16  "
      ]
     },
     "execution_count": 909,
     "metadata": {},
     "output_type": "execute_result"
    }
   ],
   "source": [
    "year = []\n",
    "month = []\n",
    "day = []\n",
    "\n",
    "for row in train['DOB']:\n",
    "    year.append(row.year)\n",
    "    month.append(row.month)\n",
    "    day.append(row.day)\n",
    "train['year'] = year\n",
    "train['month'] = month\n",
    "train['day'] = day\n",
    "train.drop('DOB',axis=1,inplace=True)\n",
    "train.head()"
   ]
  },
  {
   "cell_type": "code",
   "execution_count": 910,
   "metadata": {},
   "outputs": [
    {
     "data": {
      "text/plain": [
       "835"
      ]
     },
     "execution_count": 910,
     "metadata": {},
     "output_type": "execute_result"
    }
   ],
   "source": [
    "train['postcode'].nunique()"
   ]
  },
  {
   "cell_type": "code",
   "execution_count": 912,
   "metadata": {},
   "outputs": [
    {
     "data": {
      "text/plain": [
       "missing                                 421\n",
       "Business Systems Development Analyst     40\n",
       "Social Worker                            38\n",
       "Tax Accountant                           37\n",
       "Legal Assistant                          37\n",
       "                                       ... \n",
       "Health Coach III                          2\n",
       "Health Coach I                            2\n",
       "Research Assistant III                    2\n",
       "Geologist II                              2\n",
       "Developer I                               1\n",
       "Name: job_title, Length: 196, dtype: int64"
      ]
     },
     "execution_count": 912,
     "metadata": {},
     "output_type": "execute_result"
    }
   ],
   "source": [
    "train['job_title'].value_counts()"
   ]
  },
  {
   "cell_type": "code",
   "execution_count": 913,
   "metadata": {},
   "outputs": [
    {
     "data": {
      "text/plain": [
       "Manufacturing         703\n",
       "Financial Services    686\n",
       "missing               560\n",
       "Health                532\n",
       "Retail                304\n",
       "Property              230\n",
       "IT                    188\n",
       "Entertainment         123\n",
       "Argiculture           100\n",
       "Telecommunications     63\n",
       "Name: job_industry_category, dtype: int64"
      ]
     },
     "execution_count": 913,
     "metadata": {},
     "output_type": "execute_result"
    }
   ],
   "source": [
    "train['job_industry_category'].value_counts()"
   ]
  },
  {
   "cell_type": "code",
   "execution_count": 914,
   "metadata": {},
   "outputs": [],
   "source": [
    "cat_titles = train.loc[train['job_industry_category']=='missing','job_title'].value_counts().index[1:]"
   ]
  },
  {
   "cell_type": "code",
   "execution_count": 915,
   "metadata": {},
   "outputs": [],
   "source": [
    "for each in cat_titles:\n",
    "    count_series = train.loc[(train['job_title']==each)&(train['job_industry_category']!='missing'),'job_industry_category'].value_counts()\n",
    "    first_index = count_series.index[0]\n",
    "    train.loc[(train['job_title']==each)&(train['job_industry_category']=='missing'),'job_industry_category']=first_index\n",
    "   "
   ]
  },
  {
   "cell_type": "code",
   "execution_count": 916,
   "metadata": {},
   "outputs": [
    {
     "data": {
      "text/plain": [
       "<matplotlib.axes._subplots.AxesSubplot at 0x24460b97d08>"
      ]
     },
     "execution_count": 916,
     "metadata": {},
     "output_type": "execute_result"
    },
    {
     "data": {
      "image/png": "[encoded data removed]",
      "text/plain": [
       "<Figure size 1440x432 with 1 Axes>"
      ]
     },
     "metadata": {
      "needs_background": "light"
     },
     "output_type": "display_data"
    }
   ],
   "source": [
    "plt.figure(figsize=(20,6))\n",
    "sns.countplot(train.loc[train['job_title']=='missing','job_industry_category'])"
   ]
  },
  {
   "cell_type": "code",
   "execution_count": 917,
   "metadata": {},
   "outputs": [
    {
     "data": {
      "text/plain": [
       "<matplotlib.axes._subplots.AxesSubplot at 0x24460c1f408>"
      ]
     },
     "execution_count": 917,
     "metadata": {},
     "output_type": "execute_result"
    },
    {
     "data": {
      "image/png": "[encoded data removed]",
      "text/plain": [
       "<Figure size 432x288 with 1 Axes>"
      ]
     },
     "metadata": {
      "needs_background": "light"
     },
     "output_type": "display_data"
    }
   ],
   "source": [
    "sns.countplot(train.loc[train['job_title']=='missing','wealth_segment'])"
   ]
  },
  {
   "cell_type": "code",
   "execution_count": 918,
   "metadata": {},
   "outputs": [],
   "source": [
    "train.loc[(train['job_title']=='missing')&(train['job_industry_category']=='IT')&(train['wealth_segment']=='Mass Customer'),'job_title'] = 'Internal Auditor'\n",
    "train.loc[(train['job_title']=='missing')&(train['job_industry_category']=='IT')&(train['wealth_segment']=='Affluent Customer'),'job_title']='Business Systems Development Analyst'\n",
    "train.loc[(train['job_title']=='missing')&(train['job_industry_category']=='IT')&(train['wealth_segment']=='High Net Worth'),'job_title'] = 'Physical Therapy Assistant'"
   ]
  },
  {
   "cell_type": "code",
   "execution_count": 919,
   "metadata": {},
   "outputs": [],
   "source": [
    "train.loc[(train['job_title']=='missing')&(train['job_industry_category']=='Retail')&(train['wealth_segment']=='Mass Customer'),'job_title'] = 'Sales Representative'\n",
    "train.loc[(train['job_title']=='missing')&(train['job_industry_category']=='Retail')&(train['wealth_segment']=='Affluent Customer'),'job_title']='Sales Representative'\n",
    "train.loc[(train['job_title']=='missing')&(train['job_industry_category']=='Retail')&(train['wealth_segment']=='High Net Worth'),'job_title'] = 'Sales Representative'"
   ]
  },
  {
   "cell_type": "code",
   "execution_count": 920,
   "metadata": {},
   "outputs": [],
   "source": [
    "train.loc[(train['job_title']=='missing')&(train['job_industry_category']=='Financial Services')&(train['wealth_segment']=='Mass Customer'),'job_title'] = 'VP Accounting'\n",
    "train.loc[(train['job_title']=='missing')&(train['job_industry_category']=='Financial Services')&(train['wealth_segment']=='Affluent Customer'),'job_title']='Paralegal'\n",
    "train.loc[(train['job_title']=='missing')&(train['job_industry_category']=='Financial Services')&(train['wealth_segment']=='High Net Worth'),'job_title'] = 'Cost Accountant'"
   ]
  },
  {
   "cell_type": "code",
   "execution_count": 921,
   "metadata": {},
   "outputs": [],
   "source": [
    "train.loc[(train['job_title']=='missing')&(train['job_industry_category']=='Property')&(train['wealth_segment']=='Mass Customer'),'job_title'] = 'Account Executive'\n",
    "train.loc[(train['job_title']=='missing')&(train['job_industry_category']=='Property')&(train['wealth_segment']=='Affluent Customer'),'job_title']='Business Systems Development Analyst'\n",
    "train.loc[(train['job_title']=='missing')&(train['job_industry_category']=='Property')&(train['wealth_segment']=='High Net Worth'),'job_title'] = 'Internal Auditor'"
   ]
  },
  {
   "cell_type": "code",
   "execution_count": 922,
   "metadata": {},
   "outputs": [],
   "source": [
    "train.loc[(train['job_title']=='missing')&(train['job_industry_category']=='Manufacturing')&(train['wealth_segment']=='Mass Customer'),'job_title'] = 'Chemical Engineer'\n",
    "train.loc[(train['job_title']=='missing')&(train['job_industry_category']=='Manufacturing')&(train['wealth_segment']=='Affluent Customer'),'job_title']='Nuclear Power Engineer'\n",
    "train.loc[(train['job_title']=='missing')&(train['job_industry_category']=='Manufacturing')&(train['wealth_segment']=='High Net Worth'),'job_title'] = 'Electrical Engineer'"
   ]
  },
  {
   "cell_type": "code",
   "execution_count": 923,
   "metadata": {},
   "outputs": [],
   "source": [
    "train.loc[(train['job_title']=='missing')&(train['job_industry_category']=='Health')&(train['wealth_segment']=='Mass Customer'),'job_title'] = 'Social Worker'\n",
    "train.loc[(train['job_title']=='missing')&(train['job_industry_category']=='Health')&(train['wealth_segment']=='Affluent Customer'),'job_title']='Social Worker'\n",
    "train.loc[(train['job_title']=='missing')&(train['job_industry_category']=='Health')&(train['wealth_segment']=='High Net Worth'),'job_title'] = 'Dental Hygienist'"
   ]
  },
  {
   "cell_type": "code",
   "execution_count": 924,
   "metadata": {},
   "outputs": [],
   "source": [
    "train.loc[(train['job_title']=='missing')&(train['job_industry_category']=='Argiculture')&(train['wealth_segment']=='Mass Customer'),'job_title'] = 'Desktop Support Technician'\n",
    "train.loc[(train['job_title']=='missing')&(train['job_industry_category']=='Argiculture')&(train['wealth_segment']=='Affluent Customer'),'job_title']='Editor'\n",
    "train.loc[(train['job_title']=='missing')&(train['job_industry_category']=='Argiculture')&(train['wealth_segment']=='High Net Worth'),'job_title'] = 'Account Executive'"
   ]
  },
  {
   "cell_type": "code",
   "execution_count": 925,
   "metadata": {},
   "outputs": [],
   "source": [
    "train.loc[(train['job_title']=='missing')&(train['job_industry_category']=='Telecommunications')&(train['wealth_segment']=='Mass Customer'),'job_title'] = 'Desktop Support Technician'\n",
    "train.loc[(train['job_title']=='missing')&(train['job_industry_category']=='Telecommunications')&(train['wealth_segment']=='Affluent Customer'),'job_title']='Junior Executive'\n",
    "train.loc[(train['job_title']=='missing')&(train['job_industry_category']=='Telecommunications')&(train['wealth_segment']=='High Net Worth'),'job_title'] = 'Data Coordiator'"
   ]
  },
  {
   "cell_type": "code",
   "execution_count": 926,
   "metadata": {},
   "outputs": [],
   "source": [
    "train.loc[(train['job_title']=='missing')&(train['job_industry_category']=='Entertainment')&(train['wealth_segment']=='Mass Customer'),'job_title'] = 'Assistant Media Planner'\n",
    "train.loc[(train['job_title']=='missing')&(train['job_industry_category']=='Entertainment')&(train['wealth_segment']=='Affluent Customer'),'job_title']='Assistant Media Planner'\n",
    "train.loc[(train['job_title']=='missing')&(train['job_industry_category']=='Entertainment')&(train['wealth_segment']=='High Net Worth'),'job_title'] = 'Librarian'"
   ]
  },
  {
   "cell_type": "code",
   "execution_count": 934,
   "metadata": {},
   "outputs": [],
   "source": [
    "from sklearn.preprocessing import LabelEncoder, OneHotEncoder\n",
    "from sklearn.metrics import accuracy_score\n",
    "from sklearn.ensemble import RandomForestClassifier\n",
    "from sklearn.model_selection import train_test_split"
   ]
  },
  {
   "cell_type": "code",
   "execution_count": 935,
   "metadata": {},
   "outputs": [],
   "source": [
    "le = LabelEncoder()\n",
    "le.fit(train['job_title'])\n",
    "train['job_title'] = le.transform(train['job_title'])"
   ]
  },
  {
   "cell_type": "code",
   "execution_count": 937,
   "metadata": {},
   "outputs": [
    {
     "data": {
      "text/html": [
       "<div>\n",
       "<style scoped>\n",
       "    .dataframe tbody tr th:only-of-type {\n",
       "        vertical-align: middle;\n",
       "    }\n",
       "\n",
       "    .dataframe tbody tr th {\n",
       "        vertical-align: top;\n",
       "    }\n",
       "\n",
       "    .dataframe thead th {\n",
       "        text-align: right;\n",
       "    }\n",
       "</style>\n",
       "<table border=\"1\" class=\"dataframe\">\n",
       "  <thead>\n",
       "    <tr style=\"text-align: right;\">\n",
       "      <th></th>\n",
       "      <th>gender</th>\n",
       "      <th>past_3_years_bike_related_purchases</th>\n",
       "      <th>job_title</th>\n",
       "      <th>job_industry_category</th>\n",
       "      <th>wealth_segment</th>\n",
       "      <th>owns_car</th>\n",
       "      <th>tenure</th>\n",
       "      <th>target</th>\n",
       "      <th>postcode</th>\n",
       "      <th>state</th>\n",
       "      <th>property_valuation</th>\n",
       "      <th>year</th>\n",
       "      <th>month</th>\n",
       "      <th>day</th>\n",
       "    </tr>\n",
       "  </thead>\n",
       "  <tbody>\n",
       "    <tr>\n",
       "      <th>0</th>\n",
       "      <td>0</td>\n",
       "      <td>93</td>\n",
       "      <td>71</td>\n",
       "      <td>Health</td>\n",
       "      <td>Mass Customer</td>\n",
       "      <td>1</td>\n",
       "      <td>11.0</td>\n",
       "      <td>1</td>\n",
       "      <td>2016</td>\n",
       "      <td>NSW</td>\n",
       "      <td>10</td>\n",
       "      <td>1953</td>\n",
       "      <td>10</td>\n",
       "      <td>12</td>\n",
       "    </tr>\n",
       "    <tr>\n",
       "      <th>1</th>\n",
       "      <td>1</td>\n",
       "      <td>81</td>\n",
       "      <td>19</td>\n",
       "      <td>Financial Services</td>\n",
       "      <td>Mass Customer</td>\n",
       "      <td>1</td>\n",
       "      <td>16.0</td>\n",
       "      <td>0</td>\n",
       "      <td>2153</td>\n",
       "      <td>NSW</td>\n",
       "      <td>10</td>\n",
       "      <td>1980</td>\n",
       "      <td>12</td>\n",
       "      <td>16</td>\n",
       "    </tr>\n",
       "    <tr>\n",
       "      <th>2</th>\n",
       "      <td>1</td>\n",
       "      <td>33</td>\n",
       "      <td>95</td>\n",
       "      <td>IT</td>\n",
       "      <td>Mass Customer</td>\n",
       "      <td>0</td>\n",
       "      <td>7.0</td>\n",
       "      <td>0</td>\n",
       "      <td>4211</td>\n",
       "      <td>QLD</td>\n",
       "      <td>9</td>\n",
       "      <td>1961</td>\n",
       "      <td>10</td>\n",
       "      <td>3</td>\n",
       "    </tr>\n",
       "    <tr>\n",
       "      <th>3</th>\n",
       "      <td>0</td>\n",
       "      <td>56</td>\n",
       "      <td>149</td>\n",
       "      <td>Manufacturing</td>\n",
       "      <td>Affluent Customer</td>\n",
       "      <td>1</td>\n",
       "      <td>8.0</td>\n",
       "      <td>0</td>\n",
       "      <td>2448</td>\n",
       "      <td>NSW</td>\n",
       "      <td>4</td>\n",
       "      <td>1977</td>\n",
       "      <td>5</td>\n",
       "      <td>13</td>\n",
       "    </tr>\n",
       "    <tr>\n",
       "      <th>4</th>\n",
       "      <td>1</td>\n",
       "      <td>35</td>\n",
       "      <td>146</td>\n",
       "      <td>Retail</td>\n",
       "      <td>High Net Worth</td>\n",
       "      <td>1</td>\n",
       "      <td>13.0</td>\n",
       "      <td>0</td>\n",
       "      <td>3216</td>\n",
       "      <td>VIC</td>\n",
       "      <td>9</td>\n",
       "      <td>1966</td>\n",
       "      <td>9</td>\n",
       "      <td>16</td>\n",
       "    </tr>\n",
       "  </tbody>\n",
       "</table>\n",
       "</div>"
      ],
      "text/plain": [
       "   gender  past_3_years_bike_related_purchases  job_title  \\\n",
       "0       0                                   93         71   \n",
       "1       1                                   81         19   \n",
       "2       1                                   33         95   \n",
       "3       0                                   56        149   \n",
       "4       1                                   35        146   \n",
       "\n",
       "  job_industry_category     wealth_segment  owns_car  tenure  target  \\\n",
       "0                Health      Mass Customer         1    11.0       1   \n",
       "1    Financial Services      Mass Customer         1    16.0       0   \n",
       "2                    IT      Mass Customer         0     7.0       0   \n",
       "3         Manufacturing  Affluent Customer         1     8.0       0   \n",
       "4                Retail     High Net Worth         1    13.0       0   \n",
       "\n",
       "   postcode state  property_valuation  year  month  day  \n",
       "0      2016   NSW                  10  1953     10   12  \n",
       "1      2153   NSW                  10  1980     12   16  \n",
       "2      4211   QLD                   9  1961     10    3  \n",
       "3      2448   NSW                   4  1977      5   13  \n",
       "4      3216   VIC                   9  1966      9   16  "
      ]
     },
     "execution_count": 937,
     "metadata": {},
     "output_type": "execute_result"
    }
   ],
   "source": [
    "gender_dict = {'F':0,'M':1,'U':2}\n",
    "car_dict = {'Yes':1,'No':0}\n",
    "train['gender']=train['gender'].map(gender_dict)\n",
    "train['owns_car']=train['owns_car'].map(car_dict)\n"
   ]
  },
  {
   "cell_type": "code",
   "execution_count": 938,
   "metadata": {},
   "outputs": [
    {
     "data": {
      "text/plain": [
       "array([[0., 0., 0., ..., 1., 0., 0.],\n",
       "       [0., 0., 1., ..., 1., 0., 0.],\n",
       "       [0., 0., 0., ..., 0., 1., 0.],\n",
       "       ...,\n",
       "       [0., 0., 0., ..., 0., 0., 1.],\n",
       "       [0., 0., 0., ..., 0., 1., 0.],\n",
       "       [0., 1., 0., ..., 1., 0., 0.]])"
      ]
     },
     "execution_count": 938,
     "metadata": {},
     "output_type": "execute_result"
    }
   ],
   "source": [
    "ohe = OneHotEncoder(handle_unknown='ignore',sparse=False)\n",
    "ohe.fit(train[['job_industry_category','wealth_segment','state']])\n",
    "dummy_features = ohe.transform(train[['job_industry_category','wealth_segment','state']])\n",
    "dummy_df = pd.DataFrame(dummy_features,columns = ohe.get_feature_names())"
   ]
  },
  {
   "cell_type": "code",
   "execution_count": 944,
   "metadata": {},
   "outputs": [],
   "source": [
    "\n"
   ]
  },
  {
   "cell_type": "code",
   "execution_count": 940,
   "metadata": {},
   "outputs": [
    {
     "data": {
      "text/html": [
       "<div>\n",
       "<style scoped>\n",
       "    .dataframe tbody tr th:only-of-type {\n",
       "        vertical-align: middle;\n",
       "    }\n",
       "\n",
       "    .dataframe tbody tr th {\n",
       "        vertical-align: top;\n",
       "    }\n",
       "\n",
       "    .dataframe thead th {\n",
       "        text-align: right;\n",
       "    }\n",
       "</style>\n",
       "<table border=\"1\" class=\"dataframe\">\n",
       "  <thead>\n",
       "    <tr style=\"text-align: right;\">\n",
       "      <th></th>\n",
       "      <th>gender</th>\n",
       "      <th>past_3_years_bike_related_purchases</th>\n",
       "      <th>job_title</th>\n",
       "      <th>owns_car</th>\n",
       "      <th>tenure</th>\n",
       "      <th>target</th>\n",
       "      <th>postcode</th>\n",
       "      <th>property_valuation</th>\n",
       "      <th>year</th>\n",
       "      <th>month</th>\n",
       "      <th>...</th>\n",
       "      <th>x0_Property</th>\n",
       "      <th>x0_Retail</th>\n",
       "      <th>x0_Telecommunications</th>\n",
       "      <th>x0_missing</th>\n",
       "      <th>x1_Affluent Customer</th>\n",
       "      <th>x1_High Net Worth</th>\n",
       "      <th>x1_Mass Customer</th>\n",
       "      <th>x2_NSW</th>\n",
       "      <th>x2_QLD</th>\n",
       "      <th>x2_VIC</th>\n",
       "    </tr>\n",
       "  </thead>\n",
       "  <tbody>\n",
       "    <tr>\n",
       "      <th>0</th>\n",
       "      <td>0</td>\n",
       "      <td>93</td>\n",
       "      <td>71</td>\n",
       "      <td>1</td>\n",
       "      <td>11.0</td>\n",
       "      <td>1</td>\n",
       "      <td>2016</td>\n",
       "      <td>10</td>\n",
       "      <td>1953</td>\n",
       "      <td>10</td>\n",
       "      <td>...</td>\n",
       "      <td>0.0</td>\n",
       "      <td>0.0</td>\n",
       "      <td>0.0</td>\n",
       "      <td>0.0</td>\n",
       "      <td>0.0</td>\n",
       "      <td>0.0</td>\n",
       "      <td>1.0</td>\n",
       "      <td>1.0</td>\n",
       "      <td>0.0</td>\n",
       "      <td>0.0</td>\n",
       "    </tr>\n",
       "    <tr>\n",
       "      <th>1</th>\n",
       "      <td>1</td>\n",
       "      <td>81</td>\n",
       "      <td>19</td>\n",
       "      <td>1</td>\n",
       "      <td>16.0</td>\n",
       "      <td>0</td>\n",
       "      <td>2153</td>\n",
       "      <td>10</td>\n",
       "      <td>1980</td>\n",
       "      <td>12</td>\n",
       "      <td>...</td>\n",
       "      <td>0.0</td>\n",
       "      <td>0.0</td>\n",
       "      <td>0.0</td>\n",
       "      <td>0.0</td>\n",
       "      <td>0.0</td>\n",
       "      <td>0.0</td>\n",
       "      <td>1.0</td>\n",
       "      <td>1.0</td>\n",
       "      <td>0.0</td>\n",
       "      <td>0.0</td>\n",
       "    </tr>\n",
       "    <tr>\n",
       "      <th>2</th>\n",
       "      <td>1</td>\n",
       "      <td>33</td>\n",
       "      <td>95</td>\n",
       "      <td>0</td>\n",
       "      <td>7.0</td>\n",
       "      <td>0</td>\n",
       "      <td>4211</td>\n",
       "      <td>9</td>\n",
       "      <td>1961</td>\n",
       "      <td>10</td>\n",
       "      <td>...</td>\n",
       "      <td>0.0</td>\n",
       "      <td>0.0</td>\n",
       "      <td>0.0</td>\n",
       "      <td>0.0</td>\n",
       "      <td>0.0</td>\n",
       "      <td>0.0</td>\n",
       "      <td>1.0</td>\n",
       "      <td>0.0</td>\n",
       "      <td>1.0</td>\n",
       "      <td>0.0</td>\n",
       "    </tr>\n",
       "    <tr>\n",
       "      <th>3</th>\n",
       "      <td>0</td>\n",
       "      <td>56</td>\n",
       "      <td>149</td>\n",
       "      <td>1</td>\n",
       "      <td>8.0</td>\n",
       "      <td>0</td>\n",
       "      <td>2448</td>\n",
       "      <td>4</td>\n",
       "      <td>1977</td>\n",
       "      <td>5</td>\n",
       "      <td>...</td>\n",
       "      <td>0.0</td>\n",
       "      <td>0.0</td>\n",
       "      <td>0.0</td>\n",
       "      <td>0.0</td>\n",
       "      <td>1.0</td>\n",
       "      <td>0.0</td>\n",
       "      <td>0.0</td>\n",
       "      <td>1.0</td>\n",
       "      <td>0.0</td>\n",
       "      <td>0.0</td>\n",
       "    </tr>\n",
       "    <tr>\n",
       "      <th>4</th>\n",
       "      <td>1</td>\n",
       "      <td>35</td>\n",
       "      <td>146</td>\n",
       "      <td>1</td>\n",
       "      <td>13.0</td>\n",
       "      <td>0</td>\n",
       "      <td>3216</td>\n",
       "      <td>9</td>\n",
       "      <td>1966</td>\n",
       "      <td>9</td>\n",
       "      <td>...</td>\n",
       "      <td>0.0</td>\n",
       "      <td>1.0</td>\n",
       "      <td>0.0</td>\n",
       "      <td>0.0</td>\n",
       "      <td>0.0</td>\n",
       "      <td>1.0</td>\n",
       "      <td>0.0</td>\n",
       "      <td>0.0</td>\n",
       "      <td>0.0</td>\n",
       "      <td>1.0</td>\n",
       "    </tr>\n",
       "  </tbody>\n",
       "</table>\n",
       "<p>5 rows × 27 columns</p>\n",
       "</div>"
      ],
      "text/plain": [
       "   gender  past_3_years_bike_related_purchases  job_title  owns_car  tenure  \\\n",
       "0       0                                   93         71         1    11.0   \n",
       "1       1                                   81         19         1    16.0   \n",
       "2       1                                   33         95         0     7.0   \n",
       "3       0                                   56        149         1     8.0   \n",
       "4       1                                   35        146         1    13.0   \n",
       "\n",
       "   target  postcode  property_valuation  year  month  ...  x0_Property  \\\n",
       "0       1      2016                  10  1953     10  ...          0.0   \n",
       "1       0      2153                  10  1980     12  ...          0.0   \n",
       "2       0      4211                   9  1961     10  ...          0.0   \n",
       "3       0      2448                   4  1977      5  ...          0.0   \n",
       "4       0      3216                   9  1966      9  ...          0.0   \n",
       "\n",
       "   x0_Retail  x0_Telecommunications  x0_missing  x1_Affluent Customer  \\\n",
       "0        0.0                    0.0         0.0                   0.0   \n",
       "1        0.0                    0.0         0.0                   0.0   \n",
       "2        0.0                    0.0         0.0                   0.0   \n",
       "3        0.0                    0.0         0.0                   1.0   \n",
       "4        1.0                    0.0         0.0                   0.0   \n",
       "\n",
       "   x1_High Net Worth  x1_Mass Customer  x2_NSW  x2_QLD  x2_VIC  \n",
       "0                0.0               1.0     1.0     0.0     0.0  \n",
       "1                0.0               1.0     1.0     0.0     0.0  \n",
       "2                0.0               1.0     0.0     1.0     0.0  \n",
       "3                0.0               0.0     1.0     0.0     0.0  \n",
       "4                1.0               0.0     0.0     0.0     1.0  \n",
       "\n",
       "[5 rows x 27 columns]"
      ]
     },
     "execution_count": 940,
     "metadata": {},
     "output_type": "execute_result"
    }
   ],
   "source": [
    "train = pd.concat([train,dummy_df],axis=1)\n",
    "train.drop(['job_industry_category','wealth_segment','state'],axis=1,inplace=True)\n",
    "train.head()"
   ]
  },
  {
   "cell_type": "code",
   "execution_count": 941,
   "metadata": {},
   "outputs": [
    {
     "data": {
      "text/plain": [
       "RandomForestClassifier(bootstrap=True, ccp_alpha=0.0, class_weight=None,\n",
       "                       criterion='gini', max_depth=9, max_features='auto',\n",
       "                       max_leaf_nodes=None, max_samples=None,\n",
       "                       min_impurity_decrease=0.0, min_impurity_split=None,\n",
       "                       min_samples_leaf=1, min_samples_split=2,\n",
       "                       min_weight_fraction_leaf=0.0, n_estimators=400,\n",
       "                       n_jobs=None, oob_score=False, random_state=1, verbose=0,\n",
       "                       warm_start=False)"
      ]
     },
     "execution_count": 941,
     "metadata": {},
     "output_type": "execute_result"
    }
   ],
   "source": [
    "\n",
    "X = train.drop('target',axis=1)\n",
    "y = train['target']\n",
    "\n",
    "X_train, X_test, y_train, y_test = train_test_split(X,y, random_state=12, test_size = 0.15,stratify=y)\n",
    "\n",
    "rf = RandomForestClassifier(n_estimators=400,max_depth=9,random_state=1)\n",
    "rf.fit(X_train,y_train)"
   ]
  },
  {
   "cell_type": "code",
   "execution_count": 942,
   "metadata": {},
   "outputs": [
    {
     "data": {
      "text/plain": [
       "0.718381112984823"
      ]
     },
     "execution_count": 942,
     "metadata": {},
     "output_type": "execute_result"
    }
   ],
   "source": [
    "pred_train = rf.predict(X_train)\n",
    "accuracy_score(y_train,pred_train)"
   ]
  },
  {
   "cell_type": "code",
   "execution_count": 943,
   "metadata": {},
   "outputs": [
    {
     "data": {
      "text/plain": [
       "0.6526717557251909"
      ]
     },
     "execution_count": 943,
     "metadata": {},
     "output_type": "execute_result"
    }
   ],
   "source": [
    "pred_test = rf.predict(X_test)\n",
    "accuracy_score(y_test,pred_test)"
   ]
  }
 ],
 "metadata": {
  "kernelspec": {
   "display_name": "Python 3",
   "language": "python",
   "name": "python3"
  },
  "language_info": {
   "codemirror_mode": {
    "name": "ipython",
    "version": 3
   },
   "file_extension": ".py",
   "mimetype": "text/x-python",
   "name": "python",
   "nbconvert_exporter": "python",
   "pygments_lexer": "ipython3",
   "version": "3.7.4"
  }
 },
 "nbformat": 4,
 "nbformat_minor": 4
}
