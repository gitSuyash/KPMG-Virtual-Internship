{
 "cells": [
  {
   "cell_type": "markdown",
   "metadata": {},
   "source": [
    "## Data Quality Report"
   ]
  },
  {
   "cell_type": "markdown",
   "metadata": {},
   "source": [
    "### Overview of Data\n",
    "* Transactions Table has 20000 observations & 13 features.\n",
    "* Customer Demographic's Table has 4000 observarions & 13 features.\n",
    "* Customer Address Table has 3999 observations and 6 features"
   ]
  },
  {
   "cell_type": "markdown",
   "metadata": {},
   "source": [
    "### Issues with Data"
   ]
  },
  {
   "cell_type": "markdown",
   "metadata": {},
   "source": [
    "* Incosistency in customer_id column of customer demographic table with respect to the customer address table.\n",
    "* Presence of null values in various features such as job_title, DOB etc..\n",
    "* Incosistency in various features regarding the recorded values having same interpretation but different representation. For example, 'Victoria' is represented as 'VIC' or 'V' at some points."
   ]
  },
  {
   "cell_type": "markdown",
   "metadata": {},
   "source": [
    "*Please ensure the actions to be taken on the null values present in accordance with your data collection technique. Meanwhile we are proceeding forward with steps mentioned below:*"
   ]
  },
  {
   "cell_type": "markdown",
   "metadata": {},
   "source": [
    "### Dealing with issues for each data:\n",
    "\n",
    "#### Transactions Dataset:\n",
    " 1. Null Values:\n",
    "      * The features ```brand```, ```product_line```,\n",
    "       ```product_class```, ```product_size```, ```standard_cost```,\n",
    "       ```product_first_sold_date```have missing values for same observations and therefore values in these observations are replaced by 'missing'.\n",
    "      * The null values in ```online_order``` are taken to be offline orders and replaced to be 0.\n",
    "      \n",
    "#### Customer Demographic Dataset:\n",
    " 1. Null Values:\n",
    "      * The null values in ```last_name```,  ```job_title```, ```job_industry_category``` are replaced by'missing'.\n",
    "      * The null values in ```DOB``` are replaced by ```1970-01-01```\n",
    "      * The null values in ```tenure``` are replced by 0 \n",
    "      * Delete the ```default``` column as it does not provide any significant information.\n",
    "      \n",
    " 2. Inconsistency in ```gender``` column:\n",
    "      * Female is represented by 'Female', 'Femal' & 'F'\n",
    "      * Male is represented by 'Male' & 'M'\n",
    "      * For all Female we will use 'F'  and for Male we will use 'M'\n",
    "      \n",
    "#### Customer Address Dataset:\n",
    " 1. Null Values:\n",
    "    * No Null Values\n",
    " 2. Inconsistency in ```state``` column:\n",
    "    * 'VIC', 'Victoria' represent same entity similarly 'NSW', 'New South Wales' also represent same state.\n",
    "    * We will be using 'VIC', 'NSW' inplace of 'Victoria' & 'New South Wales' respectively.\n",
    " "
   ]
  },
  {
   "cell_type": "markdown",
   "metadata": {},
   "source": [
    "*Moving forward, the team will continue with the data cleaning, standardisation and transformation process\n",
    "for the purpose of model analysis. Questions will be raised along the way and assumptions documented.\n",
    "After we have completed this, it would be great to spend some time with your data SME to ensure that all\n",
    "assumptions are aligned with Sprocket Central’s understanding.*"
   ]
  }
 ],
 "metadata": {
  "kernelspec": {
   "display_name": "Python 3",
   "language": "python",
   "name": "python3"
  },
  "language_info": {
   "codemirror_mode": {
    "name": "ipython",
    "version": 3
   },
   "file_extension": ".py",
   "mimetype": "text/x-python",
   "name": "python",
   "nbconvert_exporter": "python",
   "pygments_lexer": "ipython3",
   "version": "3.7.4"
  }
 },
 "nbformat": 4,
 "nbformat_minor": 4
}
