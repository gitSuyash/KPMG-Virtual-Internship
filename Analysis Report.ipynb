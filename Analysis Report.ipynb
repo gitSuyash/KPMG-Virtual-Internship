{
 "cells": [
  {
   "cell_type": "markdown",
   "metadata": {},
   "source": [
    "## Analysis of the Customer Demographics and their Transactions\n",
    "\n",
    "The ```customer demographics table``` alone doesn't convey any information about the transactions made by the customers. Therfore, we synchronise the transactions data along with customer demographics data using the common ```customer_id```'s present in both the tables.\n",
    "<br>\n",
    "For all the customers about whom we have their transaction history, we set a ```target``` label for them:\n",
    "* 0 for customers who made less than 7 transactions, considered as Normal Customers\n",
    "* 1 for customers who made more than 7 transactions, considered as High Value Customers\n",
    "\n",
    "This data preparation step will help us make our analysis more convenient and target specific. "
   ]
  },
  {
   "cell_type": "markdown",
   "metadata": {},
   "source": [
    "### Customer-Target Distribution"
   ]
  },
  {
   "cell_type": "markdown",
   "metadata": {},
   "source": [
    "![image.png](images/fig1.png)"
   ]
  },
  {
   "cell_type": "markdown",
   "metadata": {},
   "source": [
    "##### Interpretations:\n",
    "* 2279 customers belong to ```label 0```\n",
    "* 1210 customers belong to ```label 1```\n",
    "* 65.3% customers constitute to ```label 0``` while 34.7% customers constitute to ```label 1```"
   ]
  },
  {
   "cell_type": "markdown",
   "metadata": {},
   "source": [
    "### High value customers for each gender"
   ]
  },
  {
   "cell_type": "markdown",
   "metadata": {},
   "source": [
    "![image.png](images/fig2.png)"
   ]
  },
  {
   "cell_type": "markdown",
   "metadata": {},
   "source": [
    "##### Interpretations:\n",
    " Among all the high value customers:\n",
    "* ```49.2%``` of the customers are ```Female```\n",
    "* ```48.4%``` customers are ```Male```\n",
    "* While ```2.4%``` of the customers belong to ```unknown``` category"
   ]
  },
  {
   "cell_type": "markdown",
   "metadata": {},
   "source": [
    "### Job Industry Category"
   ]
  },
  {
   "cell_type": "markdown",
   "metadata": {},
   "source": [
    "![image.png](images/fig3.png)"
   ]
  },
  {
   "cell_type": "markdown",
   "metadata": {},
   "source": [
    "##### Interpretations:\n",
    "\n",
    "* ```Manufaturing``` Industry has highest number of customers with ```label 0```.\n",
    "* ```Financial Services``` & ```Manufacturing``` Industry have highest and almost same number of customers belonging to ```label 1```.\n",
    "* The ```Telecommunications``` industry has least number of customers for each label."
   ]
  },
  {
   "cell_type": "markdown",
   "metadata": {},
   "source": [
    "### High Value Customers in each State"
   ]
  },
  {
   "cell_type": "markdown",
   "metadata": {},
   "source": [
    "![image.png](images/fig4.png)"
   ]
  },
  {
   "cell_type": "markdown",
   "metadata": {},
   "source": [
    "##### Interpretations:\n",
    "* 54.5% of the high value customers come from ```NSW``` \n",
    "* While 21.7% & 23.9% of the high value customers belong to ```QLD``` & ```VIC``` respectively"
   ]
  },
  {
   "cell_type": "markdown",
   "metadata": {},
   "source": [
    "### Customer's Property Valuation Variance"
   ]
  },
  {
   "cell_type": "markdown",
   "metadata": {},
   "source": [
    "![image.png](images/fig5.png)"
   ]
  },
  {
   "cell_type": "markdown",
   "metadata": {},
   "source": [
    "##### Interpretations:\n",
    "\n",
    "* It is observed that customers having ```property valuation``` between 7 to 10 are crucial for both ```label 0``` as well as ```label 1``` "
   ]
  },
  {
   "cell_type": "markdown",
   "metadata": {},
   "source": [
    "### Customer's Tenure"
   ]
  },
  {
   "cell_type": "markdown",
   "metadata": {},
   "source": [
    "![image.png](images/fig6.png)"
   ]
  },
  {
   "cell_type": "markdown",
   "metadata": {},
   "source": [
    "##### Interpretations:\n",
    "\n",
    "* There is not much clear differnce in number of customers belonging to label 0 for different tenure\n",
    "* The highest number of customers belonging to label 1 have tenure of 7"
   ]
  },
  {
   "cell_type": "markdown",
   "metadata": {},
   "source": [
    "### Postcode Effect"
   ]
  },
  {
   "cell_type": "markdown",
   "metadata": {},
   "source": [
    "![image.png](images/fig7.png)"
   ]
  },
  {
   "cell_type": "markdown",
   "metadata": {},
   "source": [
    "##### Interpretations:\n",
    "\n",
    "* The above graph represents the top 15 postcodes and number of high value customers for each postcode.\n",
    "* ```2153``` Postcode has ```highest number``` of high value customers "
   ]
  },
  {
   "cell_type": "markdown",
   "metadata": {},
   "source": [
    "### Impact of Past 3 year purchases"
   ]
  },
  {
   "cell_type": "markdown",
   "metadata": {},
   "source": [
    "![image.png](images/fig8.png)"
   ]
  },
  {
   "cell_type": "markdown",
   "metadata": {},
   "source": [
    "##### Interpretations:\n",
    "* There's no such difference in average bike realated purchases for each target."
   ]
  },
  {
   "cell_type": "markdown",
   "metadata": {},
   "source": [
    "### Difference due to Wealth Segments"
   ]
  },
  {
   "cell_type": "markdown",
   "metadata": {},
   "source": [
    "![image.png](images/fig9.png)"
   ]
  },
  {
   "cell_type": "markdown",
   "metadata": {},
   "source": [
    "##### Interpretations:\n",
    "\n",
    "* For ```label 0``` or Normal Customers:\n",
    " 1. 49.14% customers belong to ```Mass Customer``` Segment\n",
    " 2. 24.62% customers belong to ```Affluent Customer``` Segment\n",
    " 3. 26.24% customers belong to ```High Net Worth``` Segment\n",
    "<br>\n",
    "* For ```label 1``` or High Value Customers:\n",
    " 1. 51.57% customers belong to ```Mass Customer``` Segment\n",
    " 2. 23.97% customers belong to ```Affluent Customer``` Segment\n",
    " 3. 24.46% customers belong to ```High Net Worth``` Segment"
   ]
  }
 ],
 "metadata": {
  "kernelspec": {
   "display_name": "Python 3",
   "language": "python",
   "name": "python3"
  },
  "language_info": {
   "name": ""
  }
 },
 "nbformat": 4,
 "nbformat_minor": 4
}
