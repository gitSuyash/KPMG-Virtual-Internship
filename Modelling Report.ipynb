{
 "cells": [
  {
   "cell_type": "markdown",
   "metadata": {},
   "source": [
    "## Modelling"
   ]
  },
  {
   "cell_type": "markdown",
   "metadata": {},
   "source": [
    "#### Aim: To identify the high value customers given their demographics"
   ]
  },
  {
   "cell_type": "markdown",
   "metadata": {},
   "source": [
    "We were provided with the three data tables to design a model that accurately labels whether a customer is high valued or normal given its certain demographics. The three data tables were:\n",
    "1. Transactions Table \n",
    "2. Customer Demographics Table\n",
    "3. Customer Address Table \n"
   ]
  },
  {
   "cell_type": "markdown",
   "metadata": {},
   "source": [
    "*The data provided in customer demographics table does not convey any information about the transactions made by customers. To create something meaningful we extract the number of transactions made by each customer and set a target label for the customers who made more than 7 purchases as 1, thus denoting high value customers and label 0 for customers who made less than 7 purchases as Normal Customers.*  "
   ]
  },
  {
   "cell_type": "markdown",
   "metadata": {},
   "source": [
    "*Also since we have to target new customers about whom we will have no prior transaction history, we need to focus more on those features that are present in test dataset that is produced during Data Quality Analysis process.* "
   ]
  },
  {
   "cell_type": "markdown",
   "metadata": {},
   "source": [
    "#### Preparing Data For Modelling"
   ]
  },
  {
   "cell_type": "markdown",
   "metadata": {},
   "source": [
    "* ```First Name```, ```Last Name``` will be of no use to determine our target variable since we will be provided with new customer data, therefore we can delete these 2 features.\n",
    "* We will use ```Postcode``` to determine the location of the customers, though ```Address``` feature may provide more accurate location but too many specific locations might introduce noise in model development. Therefore, we will drop ```Address``` feature too.\n",
    "* Features ```Deceased_indicator``` and ```country``` have same values for all observations.Therefore these doesn't provide any significant information, these can be discarded.\n",
    "* Separate ```day```, ```month``` and ```year``` from ``DOB``` feature and make 3 new features. Discard ```DOB``` feature.\n",
    "* ```Job title``` & ```Job industry category``` contain high number of null values represented by *'missing'*\n",
    "* In ```job title``` feature we have 421 missing features while all other values are less than 50. This needs to be dealt. Therefore we will replace *'missing'* in this feature on the basis of most frequent values for common ```industry category``` & ```wealth segment```.\n",
    "* ```Job industry category``` contains 560 *'missing'* value, we will replace it by the most frequent category for customers belonging to same ```wealth segment``` and having same ```job title```.\n",
    "* After the last 2 steps we are left with only 87 *'missing'* value in ```job title``` and ```job industry category features```.\n",
    "* Features ```Gender```, ```Owns Car```, ```Job Title``` are encoded using ```LabelEncoder```.\n",
    "* Features ```Job Title```, ```State``` & ```Wealth Segment``` are encoded using ```OneHotEncoder```.\n",
    "* Final data had ```27 features``` to be used to train a model."
   ]
  },
  {
   "cell_type": "markdown",
   "metadata": {},
   "source": [
    "#### Model Development"
   ]
  },
  {
   "cell_type": "markdown",
   "metadata": {},
   "source": [
    "Modellling is nothing but a mathematical phenomenon representing the data. We have used an ensemble learning model called ```RandomForestClassifier``` to train on data and infer target labels. \n",
    "\n",
    "* Random Forest creates subsets of train data and features.\n",
    "* A decision tree model is fitted on each subset.\n",
    "* At each node in Decision Tree, random set of features are considered to decide best split.\n",
    "* Final prediction is made by averaging outcomes of all decision trees."
   ]
  },
  {
   "cell_type": "markdown",
   "metadata": {},
   "source": [
    "#### Model Performance"
   ]
  },
  {
   "cell_type": "markdown",
   "metadata": {},
   "source": [
    "*```Accuracy Score on Train Data: 71.8%```*<br>\n",
    "*```Accuracy Score on Test Data: 65.2%```*"
   ]
  }
 ],
 "metadata": {
  "kernelspec": {
   "display_name": "Python 3",
   "language": "python",
   "name": "python3"
  },
  "language_info": {
   "codemirror_mode": {
    "name": "ipython",
    "version": 3
   },
   "file_extension": ".py",
   "mimetype": "text/x-python",
   "name": "python",
   "nbconvert_exporter": "python",
   "pygments_lexer": "ipython3",
   "version": "3.7.4"
  }
 },
 "nbformat": 4,
 "nbformat_minor": 4
}
